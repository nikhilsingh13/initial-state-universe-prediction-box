{
 "cells": [
  {
   "cell_type": "code",
   "execution_count": 1,
   "id": "b81819bb",
   "metadata": {},
   "outputs": [],
   "source": [
    "import os\n",
    "\n",
    "import numpy as np\n",
    "import tensorflow as tf"
   ]
  },
  {
   "cell_type": "code",
   "execution_count": 2,
   "id": "f1aabdb4",
   "metadata": {},
   "outputs": [],
   "source": [
    "os.environ['TF_GPU_ALLOCATOR'] = 'cuda_malloc_async'"
   ]
  },
  {
   "cell_type": "code",
   "execution_count": 3,
   "id": "2957f2d3",
   "metadata": {},
   "outputs": [],
   "source": [
    "from tensorflow.keras.callbacks import EarlyStopping, ReduceLROnPlateau, ModelCheckpoint\n",
    "from tensorflow.keras.optimizers import Adam\n",
    "from tensorflow.keras import backend as K\n",
    "\n",
    "from tensorflow.keras.utils import plot_model\n",
    "from tensorflow.keras.models import load_model"
   ]
  },
  {
   "cell_type": "code",
   "execution_count": 4,
   "id": "d3c785ea",
   "metadata": {},
   "outputs": [],
   "source": [
    "os.chdir('..')"
   ]
  },
  {
   "cell_type": "code",
   "execution_count": 5,
   "id": "2ba651fa",
   "metadata": {},
   "outputs": [],
   "source": [
    "from src.volumetric_unet import create_volumetric_unet"
   ]
  },
  {
   "cell_type": "code",
   "execution_count": 6,
   "id": "0f3d6af2",
   "metadata": {},
   "outputs": [
    {
     "name": "stdout",
     "output_type": "stream",
     "text": [
      "Num GPUs Available:  1\n"
     ]
    },
    {
     "data": {
      "text/plain": [
       "[PhysicalDevice(name='/physical_device:GPU:0', device_type='GPU')]"
      ]
     },
     "execution_count": 6,
     "metadata": {},
     "output_type": "execute_result"
    }
   ],
   "source": [
    "print(\"Num GPUs Available: \", len(tf.config.list_physical_devices('GPU')))\n",
    "tf.config.list_physical_devices('GPU')"
   ]
  },
  {
   "cell_type": "code",
   "execution_count": 7,
   "id": "c51c6284",
   "metadata": {},
   "outputs": [],
   "source": [
    "# Setting seed for reproducibility\n",
    "os.environ['PYTHONHASHSEED']=str(123)\n",
    "\n",
    "np.random.seed(123)\n",
    "tf.random.set_seed(123)"
   ]
  },
  {
   "cell_type": "code",
   "execution_count": 8,
   "id": "5631b45a",
   "metadata": {},
   "outputs": [],
   "source": [
    "X_train_combined = np.load('./data/X_train_combined.npy')\n",
    "y_train_combined = np.load('./data/y_train_combined.npy')"
   ]
  },
  {
   "cell_type": "code",
   "execution_count": 9,
   "id": "8c966243",
   "metadata": {},
   "outputs": [
    {
     "data": {
      "text/plain": [
       "((130050, 32, 32, 32, 1),\n",
       " (130050, 32, 32, 32, 1),\n",
       " (19125, 32, 32, 32, 1),\n",
       " (19125, 32, 32, 32, 1))"
      ]
     },
     "execution_count": 9,
     "metadata": {},
     "output_type": "execute_result"
    }
   ],
   "source": [
    "X_val = np.load('./data/X_val.npy')\n",
    "y_val = np.load('./data/y_val.npy')\n",
    "\n",
    "X_train_combined.shape, y_train_combined.shape, X_val.shape, y_val.shape"
   ]
  },
  {
   "cell_type": "code",
   "execution_count": 10,
   "id": "bca6944a",
   "metadata": {},
   "outputs": [
    {
     "data": {
      "text/plain": [
       "((117045, 32, 32, 32, 1),\n",
       " (117045, 32, 32, 32, 1),\n",
       " (17212, 32, 32, 32, 1),\n",
       " (17212, 32, 32, 32, 1))"
      ]
     },
     "execution_count": 10,
     "metadata": {},
     "output_type": "execute_result"
    }
   ],
   "source": [
    "sample_size_train = int(0.9 * X_train_combined.shape[0])\n",
    "sample_size_val = int(0.9 * X_val.shape[0])\n",
    "\n",
    "indices_train = np.random.choice(X_train_combined.shape[0], sample_size_train, replace=False)\n",
    "indices_val = np.random.choice(X_val.shape[0], sample_size_val, replace=False)\n",
    "\n",
    "X_train_sample = X_train_combined[indices_train]\n",
    "y_train_sample = y_train_combined[indices_train]\n",
    "X_val_sample = X_val[indices_val]\n",
    "y_val_sample = y_val[indices_val]\n",
    "\n",
    "X_train_sample.shape, y_train_sample.shape, X_val_sample.shape, y_val_sample.shape"
   ]
  },
  {
   "cell_type": "code",
   "execution_count": 11,
   "id": "4ab71699",
   "metadata": {},
   "outputs": [],
   "source": [
    "# Parameters\n",
    "Ngrid = 32  # grid size"
   ]
  },
  {
   "cell_type": "code",
   "execution_count": 12,
   "id": "93b6df56",
   "metadata": {},
   "outputs": [
    {
     "name": "stderr",
     "output_type": "stream",
     "text": [
      "2024-03-13 14:29:54.456233: I tensorflow/core/platform/cpu_feature_guard.cc:151] This TensorFlow binary is optimized with oneAPI Deep Neural Network Library (oneDNN) to use the following CPU instructions in performance-critical operations:  AVX2 FMA\n",
      "To enable them in other operations, rebuild TensorFlow with the appropriate compiler flags.\n",
      "2024-03-13 14:30:01.745030: I tensorflow/core/common_runtime/gpu/gpu_process_state.cc:214] Using CUDA malloc Async allocator for GPU: 0\n",
      "2024-03-13 14:30:01.748073: I tensorflow/core/common_runtime/gpu/gpu_device.cc:1525] Created device /job:localhost/replica:0/task:0/device:GPU:0 with 38420 MB memory:  -> device: 0, name: NVIDIA A100-PCIE-40GB, pci bus id: 0000:41:00.0, compute capability: 8.0\n"
     ]
    }
   ],
   "source": [
    "unet_model = create_volumetric_unet((Ngrid, Ngrid, Ngrid, 1), num_classes=1)"
   ]
  },
  {
   "cell_type": "code",
   "execution_count": 13,
   "id": "00dd5471",
   "metadata": {},
   "outputs": [],
   "source": [
    "# Compile the model\n",
    "unet_model.compile(optimizer=Adam(),\n",
    "                   loss='mse',\n",
    "                   run_eagerly=False) # making it false to take benefit of graph execution and memory effeciency."
   ]
  },
  {
   "cell_type": "code",
   "execution_count": 14,
   "id": "2a2c1996",
   "metadata": {},
   "outputs": [],
   "source": [
    "# Define callbacks\n",
    "early_stopping = EarlyStopping(monitor='val_loss', patience=5)\n",
    "\n",
    "reduce_lr = ReduceLROnPlateau(monitor='val_loss', factor=0.2, patience=5, min_lr=0.001)\n",
    "\n",
    "model_checkpoint = ModelCheckpoint('models/unet/130324_90p_samp_augment.hdf5', \n",
    "                                   monitor='val_loss',\n",
    "                                   verbose=1, \n",
    "                                   save_best_only=True)"
   ]
  },
  {
   "cell_type": "code",
   "execution_count": null,
   "id": "ecfd4823",
   "metadata": {
    "scrolled": true
   },
   "outputs": [
    {
     "name": "stdout",
     "output_type": "stream",
     "text": [
      "Epoch 1/50\n"
     ]
    },
    {
     "name": "stderr",
     "output_type": "stream",
     "text": [
      "2024-03-12 23:52:25.545135: I tensorflow/stream_executor/cuda/cuda_dnn.cc:368] Loaded cuDNN version 8200\n"
     ]
    },
    {
     "name": "stdout",
     "output_type": "stream",
     "text": [
      "3658/3658 [==============================] - ETA: 0s - loss: 0.7288\n",
      "Epoch 1: val_loss improved from inf to 0.35293, saving model to models/unet/130324_90p_samp_augment.hdf5\n",
      "3658/3658 [==============================] - 479s 126ms/step - loss: 0.7288 - val_loss: 0.3529 - lr: 0.0010\n",
      "Epoch 2/50\n",
      "3512/3658 [===========================>..] - ETA: 27s - loss: 0.4093"
     ]
    }
   ],
   "source": [
    "# Train the model\n",
    "history = unet_model.fit(x=X_train_sample,\n",
    "                    y=y_train_sample,\n",
    "                    validation_data=(X_val_sample, y_val_sample),\n",
    "                    batch_size=32, \n",
    "                    epochs=50,\n",
    "                    callbacks=[early_stopping, reduce_lr, model_checkpoint])"
   ]
  },
  {
   "cell_type": "markdown",
   "id": "bfc040cd",
   "metadata": {},
   "source": [
    "### Model saved"
   ]
  },
  {
   "cell_type": "code",
   "execution_count": 20,
   "id": "7d5fd3ec",
   "metadata": {},
   "outputs": [],
   "source": [
    "unet_model = load_model(\"./initial-state-universe-prediction-box/models/unet/130324_90p_samp_augment.hdf5\")"
   ]
  },
  {
   "cell_type": "code",
   "execution_count": 21,
   "id": "c240f01a",
   "metadata": {},
   "outputs": [
    {
     "name": "stdout",
     "output_type": "stream",
     "text": [
      "Model: \"model\"\n",
      "__________________________________________________________________________________________________\n",
      " Layer (type)                   Output Shape         Param #     Connected to                     \n",
      "==================================================================================================\n",
      " input_1 (InputLayer)           [(None, 32, 32, 32,  0           []                               \n",
      "                                 1)]                                                              \n",
      "                                                                                                  \n",
      " conv3d (Conv3D)                (None, 32, 32, 32,   1792        ['input_1[0][0]']                \n",
      "                                64)                                                               \n",
      "                                                                                                  \n",
      " conv3d_1 (Conv3D)              (None, 32, 32, 32,   110656      ['conv3d[0][0]']                 \n",
      "                                64)                                                               \n",
      "                                                                                                  \n",
      " dropout (Dropout)              (None, 32, 32, 32,   0           ['conv3d_1[0][0]']               \n",
      "                                64)                                                               \n",
      "                                                                                                  \n",
      " max_pooling3d (MaxPooling3D)   (None, 16, 16, 16,   0           ['dropout[0][0]']                \n",
      "                                64)                                                               \n",
      "                                                                                                  \n",
      " conv3d_2 (Conv3D)              (None, 16, 16, 16,   221312      ['max_pooling3d[0][0]']          \n",
      "                                128)                                                              \n",
      "                                                                                                  \n",
      " conv3d_3 (Conv3D)              (None, 16, 16, 16,   442496      ['conv3d_2[0][0]']               \n",
      "                                128)                                                              \n",
      "                                                                                                  \n",
      " dropout_1 (Dropout)            (None, 16, 16, 16,   0           ['conv3d_3[0][0]']               \n",
      "                                128)                                                              \n",
      "                                                                                                  \n",
      " max_pooling3d_1 (MaxPooling3D)  (None, 8, 8, 8, 128  0          ['dropout_1[0][0]']              \n",
      "                                )                                                                 \n",
      "                                                                                                  \n",
      " conv3d_4 (Conv3D)              (None, 8, 8, 8, 256  884992      ['max_pooling3d_1[0][0]']        \n",
      "                                )                                                                 \n",
      "                                                                                                  \n",
      " conv3d_5 (Conv3D)              (None, 8, 8, 8, 256  1769728     ['conv3d_4[0][0]']               \n",
      "                                )                                                                 \n",
      "                                                                                                  \n",
      " up_sampling3d (UpSampling3D)   (None, 16, 16, 16,   0           ['conv3d_5[0][0]']               \n",
      "                                256)                                                              \n",
      "                                                                                                  \n",
      " concatenate (Concatenate)      (None, 16, 16, 16,   0           ['up_sampling3d[0][0]',          \n",
      "                                384)                              'conv3d_3[0][0]']               \n",
      "                                                                                                  \n",
      " conv3d_6 (Conv3D)              (None, 16, 16, 16,   1327232     ['concatenate[0][0]']            \n",
      "                                128)                                                              \n",
      "                                                                                                  \n",
      " conv3d_7 (Conv3D)              (None, 16, 16, 16,   442496      ['conv3d_6[0][0]']               \n",
      "                                128)                                                              \n",
      "                                                                                                  \n",
      " up_sampling3d_1 (UpSampling3D)  (None, 32, 32, 32,   0          ['conv3d_7[0][0]']               \n",
      "                                128)                                                              \n",
      "                                                                                                  \n",
      " concatenate_1 (Concatenate)    (None, 32, 32, 32,   0           ['up_sampling3d_1[0][0]',        \n",
      "                                192)                              'conv3d_1[0][0]']               \n",
      "                                                                                                  \n",
      " conv3d_8 (Conv3D)              (None, 32, 32, 32,   331840      ['concatenate_1[0][0]']          \n",
      "                                64)                                                               \n",
      "                                                                                                  \n",
      " conv3d_9 (Conv3D)              (None, 32, 32, 32,   110656      ['conv3d_8[0][0]']               \n",
      "                                64)                                                               \n",
      "                                                                                                  \n",
      " conv3d_10 (Conv3D)             (None, 32, 32, 32,   65          ['conv3d_9[0][0]']               \n",
      "                                1)                                                                \n",
      "                                                                                                  \n",
      "==================================================================================================\n",
      "Total params: 5,643,265\n",
      "Trainable params: 5,643,265\n",
      "Non-trainable params: 0\n",
      "__________________________________________________________________________________________________\n"
     ]
    }
   ],
   "source": [
    "unet_model.summary()"
   ]
  },
  {
   "cell_type": "code",
   "execution_count": 24,
   "id": "651b247b",
   "metadata": {},
   "outputs": [
    {
     "name": "stdout",
     "output_type": "stream",
     "text": [
      "Epoch 24/50\n"
     ]
    },
    {
     "name": "stderr",
     "output_type": "stream",
     "text": [
      "2024-03-13 14:34:50.373374: I tensorflow/stream_executor/cuda/cuda_dnn.cc:368] Loaded cuDNN version 8200\n"
     ]
    },
    {
     "name": "stdout",
     "output_type": "stream",
     "text": [
      "3658/3658 [==============================] - ETA: 0s - loss: 0.4065\n",
      "Epoch 24: val_loss improved from inf to 0.28878, saving model to models/unet/130324_90p_samp_augment.hdf5\n",
      "3658/3658 [==============================] - 483s 127ms/step - loss: 0.4065 - val_loss: 0.2888 - lr: 0.0010\n",
      "Epoch 25/50\n",
      "   1/3658 [..............................] - ETA: 15:44 - loss: 0.43043658/3658 [==============================] - ETA: 0s - loss: 0.4059\n",
      "Epoch 34: val_loss did not improve from 0.28616\n",
      "3658/3658 [==============================] - 700s 191ms/step - loss: 0.4059 - val_loss: 0.2881 - lr: 0.0010\n",
      "Epoch 35/50\n",
      "   1/3658 [..............................] - ETA: 11:09 - loss: 0.33623658/3658 [==============================] - ETA: 0s - loss: 0.4058\n",
      "Epoch 36: val_loss did not improve from 0.28616\n",
      "3658/3658 [==============================] - 701s 192ms/step - loss: 0.4058 - val_loss: 0.2862 - lr: 0.0010\n"
     ]
    }
   ],
   "source": [
    "history = unet_model.fit(x=X_train_sample,\n",
    "                         y=y_train_sample,\n",
    "                         validation_data=(X_val_sample, y_val_sample),\n",
    "                         batch_size=32,\n",
    "                         epochs=50,  # Set the total number of epochs\n",
    "                         initial_epoch=23,  # Start training from epoch 2\n",
    "                         callbacks=[early_stopping, reduce_lr, model_checkpoint])"
   ]
  },
  {
   "cell_type": "code",
   "execution_count": 23,
   "id": "db1dc5af",
   "metadata": {},
   "outputs": [],
   "source": [
    "plot_model(unet_model, \n",
    "           to_file='models/unet/unet_model.png',\n",
    "           show_shapes=True, \n",
    "           show_layer_names=True, \n",
    "           dpi=30)"
   ]
  },
  {
   "cell_type": "markdown",
   "id": "b2efd7bc",
   "metadata": {},
   "source": [
    "-----"
   ]
  }
 ],
 "metadata": {
  "kernelspec": {
   "display_name": "Python 3 (ipykernel)",
   "language": "python",
   "name": "python3"
  },
  "language_info": {
   "codemirror_mode": {
    "name": "ipython",
    "version": 3
   },
   "file_extension": ".py",
   "mimetype": "text/x-python",
   "name": "python",
   "nbconvert_exporter": "python",
   "pygments_lexer": "ipython3",
   "version": "3.7.12"
  }
 },
 "nbformat": 4,
 "nbformat_minor": 5
}
