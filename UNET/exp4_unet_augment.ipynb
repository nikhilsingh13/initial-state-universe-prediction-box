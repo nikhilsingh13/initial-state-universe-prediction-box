{
 "cells": [
  {
   "cell_type": "code",
   "execution_count": null,
   "id": "b81819bb",
   "metadata": {},
   "outputs": [],
   "source": [
    "import os\n",
    "\n",
    "import numpy as np\n",
    "import tensorflow as tf"
   ]
  },
  {
   "cell_type": "code",
   "execution_count": null,
   "id": "2957f2d3",
   "metadata": {},
   "outputs": [],
   "source": [
    "from tensorflow.keras.callbacks import EarlyStopping, ReduceLROnPlateau, ModelCheckpoint\n",
    "from tensorflow.keras.optimizers import Adam\n",
    "from tensorflow.keras import backend as K\n",
    "\n",
    "from tensorflow.keras.utils import plot_model"
   ]
  },
  {
   "cell_type": "code",
   "execution_count": null,
   "id": "d3c785ea",
   "metadata": {},
   "outputs": [],
   "source": [
    "os.chdir('..')"
   ]
  },
  {
   "cell_type": "code",
   "execution_count": null,
   "id": "2ba651fa",
   "metadata": {},
   "outputs": [],
   "source": [
    "from src.volumetric_unet import create_volumetric_unet"
   ]
  },
  {
   "cell_type": "code",
   "execution_count": null,
   "id": "0f3d6af2",
   "metadata": {},
   "outputs": [],
   "source": [
    "print(\"Num GPUs Available: \", len(tf.config.list_physical_devices('GPU')))\n",
    "tf.config.list_physical_devices('GPU')"
   ]
  },
  {
   "cell_type": "code",
   "execution_count": null,
   "id": "c51c6284",
   "metadata": {},
   "outputs": [],
   "source": [
    "# Setting seed for reproducibility\n",
    "os.environ['PYTHONHASHSEED']=str(123)\n",
    "\n",
    "np.random.seed(123)\n",
    "tf.random.set_seed(123)"
   ]
  },
  {
   "cell_type": "code",
   "execution_count": null,
   "id": "5631b45a",
   "metadata": {},
   "outputs": [],
   "source": [
    "X_train_combined = np.load('./data/X_train_combined.npy')\n",
    "y_train_combined = np.load('./data/y_train_combined.npy')"
   ]
  },
  {
   "cell_type": "code",
   "execution_count": null,
   "id": "8c966243",
   "metadata": {},
   "outputs": [],
   "source": [
    "X_val = np.load('./data/X_val.npy')\n",
    "y_val = np.load('./data/y_val.npy')\n",
    "\n",
    "X_train_combined.shape, y_train_combined.shape, X_val.shape, y_val.shape"
   ]
  },
  {
   "cell_type": "code",
   "execution_count": null,
   "id": "bca6944a",
   "metadata": {},
   "outputs": [],
   "source": [
    "sample_size_train = int(0.9 * X_train_combined.shape[0])\n",
    "sample_size_val = int(0.9 * X_val.shape[0])\n",
    "\n",
    "indices_train = np.random.choice(X_train_combined.shape[0], sample_size_train, replace=False)\n",
    "indices_val = np.random.choice(X_val.shape[0], sample_size_val, replace=False)\n",
    "\n",
    "X_train_sample = X_train_combined[indices_train]\n",
    "y_train_sample = y_train_combined[indices_train]\n",
    "X_val_sample = X_val[indices_val]\n",
    "y_val_sample = y_val[indices_val]\n",
    "\n",
    "X_train_sample.shape, y_train_sample.shape, X_val_sample.shape, y_val_sample.shape"
   ]
  },
  {
   "cell_type": "code",
   "execution_count": null,
   "id": "4ab71699",
   "metadata": {},
   "outputs": [],
   "source": [
    "# Parameters\n",
    "Ngrid = 32  # grid size"
   ]
  },
  {
   "cell_type": "code",
   "execution_count": null,
   "id": "93b6df56",
   "metadata": {},
   "outputs": [],
   "source": [
    "unet_model = create_volumetric_unet((Ngrid, Ngrid, Ngrid, 1), num_classes=1)"
   ]
  },
  {
   "cell_type": "code",
   "execution_count": null,
   "id": "00dd5471",
   "metadata": {},
   "outputs": [],
   "source": [
    "# Compile the model\n",
    "unet_model.compile(optimizer=Adam(),\n",
    "                   loss='mse',\n",
    "                   run_eagerly=True)"
   ]
  },
  {
   "cell_type": "code",
   "execution_count": null,
   "id": "2a2c1996",
   "metadata": {},
   "outputs": [],
   "source": [
    "# Define callbacks\n",
    "early_stopping = EarlyStopping(monitor='val_loss', patience=5)\n",
    "\n",
    "reduce_lr = ReduceLROnPlateau(monitor='val_loss', factor=0.2, patience=5, min_lr=0.001)\n",
    "\n",
    "model_checkpoint = ModelCheckpoint('models/unet/060324_90p_samp_augment.hdf5', \n",
    "                                   monitor='val_loss',\n",
    "                                   verbose=1, \n",
    "                                   save_best_only=True)"
   ]
  },
  {
   "cell_type": "code",
   "execution_count": null,
   "id": "ecfd4823",
   "metadata": {},
   "outputs": [],
   "source": [
    "# Train the model\n",
    "history = unet_model.fit(x=X_train_sample,\n",
    "                    y=y_train_sample,\n",
    "                    validation_data=(X_val_sample, y_val_sample),\n",
    "                    batch_size=32, \n",
    "                    epochs=50,\n",
    "                    callbacks=[early_stopping, reduce_lr, model_checkpoint])"
   ]
  },
  {
   "cell_type": "code",
   "execution_count": null,
   "id": "c3f59882",
   "metadata": {},
   "outputs": [],
   "source": []
  }
 ],
 "metadata": {
  "kernelspec": {
   "display_name": "Python 3 (ipykernel)",
   "language": "python",
   "name": "python3"
  },
  "language_info": {
   "codemirror_mode": {
    "name": "ipython",
    "version": 3
   },
   "file_extension": ".py",
   "mimetype": "text/x-python",
   "name": "python",
   "nbconvert_exporter": "python",
   "pygments_lexer": "ipython3",
   "version": "3.7.12"
  }
 },
 "nbformat": 4,
 "nbformat_minor": 5
}
