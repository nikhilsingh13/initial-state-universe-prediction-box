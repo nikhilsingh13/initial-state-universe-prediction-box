{
 "cells": [
  {
   "cell_type": "code",
   "execution_count": 1,
   "id": "cef37630",
   "metadata": {},
   "outputs": [],
   "source": [
    "import os\n",
    "\n",
    "import numpy as np\n",
    "import tensorflow as tf"
   ]
  },
  {
   "cell_type": "code",
   "execution_count": 2,
   "id": "f8fb16b1",
   "metadata": {},
   "outputs": [],
   "source": [
    "from tensorflow.keras.callbacks import EarlyStopping, ReduceLROnPlateau, ModelCheckpoint\n",
    "from tensorflow.keras.optimizers import Adam\n",
    "from tensorflow.keras import backend as K"
   ]
  },
  {
   "cell_type": "code",
   "execution_count": 3,
   "id": "6c721cda",
   "metadata": {},
   "outputs": [],
   "source": [
    "os.chdir('..')"
   ]
  },
  {
   "cell_type": "code",
   "execution_count": 4,
   "id": "1e6f8f74",
   "metadata": {},
   "outputs": [],
   "source": [
    "from src.vnet_modified import vnet_regression"
   ]
  },
  {
   "cell_type": "code",
   "execution_count": 5,
   "id": "e91685ff",
   "metadata": {},
   "outputs": [
    {
     "name": "stdout",
     "output_type": "stream",
     "text": [
      "Num GPUs Available:  1\n"
     ]
    },
    {
     "data": {
      "text/plain": [
       "[PhysicalDevice(name='/physical_device:GPU:0', device_type='GPU')]"
      ]
     },
     "execution_count": 5,
     "metadata": {},
     "output_type": "execute_result"
    }
   ],
   "source": [
    "print(\"Num GPUs Available: \", len(tf.config.list_physical_devices('GPU')))\n",
    "tf.config.list_physical_devices('GPU')"
   ]
  },
  {
   "cell_type": "code",
   "execution_count": 6,
   "id": "0429810e",
   "metadata": {},
   "outputs": [],
   "source": [
    "# Setting seed for reproducibility\n",
    "os.environ['PYTHONHASHSEED']=str(123)\n",
    "\n",
    "np.random.seed(123)\n",
    "tf.random.set_seed(123)"
   ]
  },
  {
   "cell_type": "code",
   "execution_count": 7,
   "id": "0a018218",
   "metadata": {},
   "outputs": [],
   "source": [
    "X_train_combined = np.load('./data/X_train_combined.npy')\n",
    "y_train_combined = np.load('./data/y_train_combined.npy')"
   ]
  },
  {
   "cell_type": "code",
   "execution_count": 8,
   "id": "0fcb233a",
   "metadata": {},
   "outputs": [
    {
     "data": {
      "text/plain": [
       "((130050, 32, 32, 32, 1),\n",
       " (130050, 32, 32, 32, 1),\n",
       " (19125, 32, 32, 32, 1),\n",
       " (19125, 32, 32, 32, 1))"
      ]
     },
     "execution_count": 8,
     "metadata": {},
     "output_type": "execute_result"
    }
   ],
   "source": [
    "X_val = np.load('./data/X_val.npy')\n",
    "y_val = np.load('./data/y_val.npy')\n",
    "\n",
    "X_train_combined.shape, y_train_combined.shape, X_val.shape, y_val.shape"
   ]
  },
  {
   "cell_type": "markdown",
   "id": "62c8763b",
   "metadata": {},
   "source": [
    "------\n",
    "#### Taking a sample of data to make sure the dimensions are fine or not. Later, will try to run it on all samples."
   ]
  },
  {
   "cell_type": "code",
   "execution_count": 9,
   "id": "3795ac00",
   "metadata": {},
   "outputs": [
    {
     "data": {
      "text/plain": [
       "((117045, 32, 32, 32, 1),\n",
       " (117045, 32, 32, 32, 1),\n",
       " (17212, 32, 32, 32, 1),\n",
       " (17212, 32, 32, 32, 1))"
      ]
     },
     "execution_count": 9,
     "metadata": {},
     "output_type": "execute_result"
    }
   ],
   "source": [
    "sample_size_train = int(0.9 * X_train_combined.shape[0])\n",
    "sample_size_val = int(0.9 * X_val.shape[0])\n",
    "\n",
    "indices_train = np.random.choice(X_train_combined.shape[0], sample_size_train, replace=False)\n",
    "indices_val = np.random.choice(X_val.shape[0], sample_size_val, replace=False)\n",
    "\n",
    "X_train_sample = X_train_combined[indices_train]\n",
    "y_train_sample = y_train_combined[indices_train]\n",
    "X_val_sample = X_val[indices_val]\n",
    "y_val_sample = y_val[indices_val]\n",
    "\n",
    "X_train_sample.shape, y_train_sample.shape, X_val_sample.shape, y_val_sample.shape"
   ]
  },
  {
   "cell_type": "code",
   "execution_count": 10,
   "id": "3b4252a5",
   "metadata": {},
   "outputs": [],
   "source": [
    "# Parameters\n",
    "Ngrid = 32  # grid size"
   ]
  },
  {
   "cell_type": "code",
   "execution_count": 11,
   "id": "d0f117a3",
   "metadata": {},
   "outputs": [
    {
     "name": "stderr",
     "output_type": "stream",
     "text": [
      "2024-02-25 11:39:57.716831: I tensorflow/core/platform/cpu_feature_guard.cc:151] This TensorFlow binary is optimized with oneAPI Deep Neural Network Library (oneDNN) to use the following CPU instructions in performance-critical operations:  AVX2 FMA\n",
      "To enable them in other operations, rebuild TensorFlow with the appropriate compiler flags.\n",
      "2024-02-25 11:40:02.994238: I tensorflow/core/common_runtime/gpu/gpu_device.cc:1525] Created device /job:localhost/replica:0/task:0/device:GPU:0 with 38420 MB memory:  -> device: 0, name: NVIDIA A100-PCIE-40GB, pci bus id: 0000:01:00.0, compute capability: 8.0\n"
     ]
    }
   ],
   "source": [
    "vnet_model = vnet_regression((Ngrid, Ngrid, Ngrid, 1))"
   ]
  },
  {
   "cell_type": "code",
   "execution_count": 12,
   "id": "c1e9b8c1",
   "metadata": {},
   "outputs": [],
   "source": [
    "# Compile the model\n",
    "vnet_model.compile(optimizer=Adam(), \n",
    "                   loss='mse',\n",
    "                   metrics=['mae'],\n",
    "                   run_eagerly=True)"
   ]
  },
  {
   "cell_type": "code",
   "execution_count": 13,
   "id": "a48101a2",
   "metadata": {},
   "outputs": [],
   "source": [
    "early_stopping = EarlyStopping(monitor='val_loss', \n",
    "                               patience=5, \n",
    "                               restore_best_weights=True)\n",
    "\n",
    "reduce_lr = ReduceLROnPlateau(monitor='val_loss', \n",
    "                              factor=0.2, \n",
    "                              patience=5, \n",
    "                              min_lr=0.001)\n",
    "\n",
    "checkpoint = ModelCheckpoint('models/vnet/250224_90p_samp_augment.hdf5', \n",
    "                             monitor='val_loss', \n",
    "                             verbose=1, \n",
    "                             save_best_only=True)"
   ]
  },
  {
   "cell_type": "code",
   "execution_count": 14,
   "id": "0d3ddb27",
   "metadata": {},
   "outputs": [
    {
     "name": "stdout",
     "output_type": "stream",
     "text": [
      "Epoch 1/50\n"
     ]
    },
    {
     "name": "stderr",
     "output_type": "stream",
     "text": [
      "2024-02-25 11:40:24.474402: I tensorflow/stream_executor/cuda/cuda_dnn.cc:368] Loaded cuDNN version 8200\n",
      "2024-02-25 11:40:36.483623: I tensorflow/stream_executor/cuda/cuda_blas.cc:1786] TensorFloat-32 will be used for the matrix multiplication. This will only be logged once.\n"
     ]
    },
    {
     "name": "stdout",
     "output_type": "stream",
     "text": [
      "3658/3658 [==============================] - ETA: 0s - loss: 2.6303 - mae: 0.7253\n",
      "Epoch 1: val_loss improved from inf to 0.63100, saving model to models/vnet/250224_90p_samp_augment.hdf5\n",
      "3658/3658 [==============================] - 255s 63ms/step - loss: 2.6303 - mae: 0.7253 - val_loss: 0.6310 - val_mae: 0.5813 - lr: 0.0010\n",
      "Epoch 2/50\n",
      "3658/3658 [==============================] - ETA: 0s - loss: 0.6777 - mae: 0.5668\n",
      "Epoch 2: val_loss improved from 0.63100 to 0.62696, saving model to models/vnet/250224_90p_samp_augment.hdf5\n",
      "3658/3658 [==============================] - 230s 63ms/step - loss: 0.6777 - mae: 0.5668 - val_loss: 0.6270 - val_mae: 0.6093 - lr: 0.0010\n",
      "Epoch 3/50\n",
      "3658/3658 [==============================] - ETA: 0s - loss: 0.6274 - mae: 0.5438\n",
      "Epoch 3: val_loss improved from 0.62696 to 0.47678, saving model to models/vnet/250224_90p_samp_augment.hdf5\n",
      "3658/3658 [==============================] - 230s 63ms/step - loss: 0.6274 - mae: 0.5438 - val_loss: 0.4768 - val_mae: 0.4884 - lr: 0.0010\n",
      "Epoch 4/50\n",
      "3658/3658 [==============================] - ETA: 0s - loss: 0.5842 - mae: 0.5235\n",
      "Epoch 4: val_loss improved from 0.47678 to 0.43821, saving model to models/vnet/250224_90p_samp_augment.hdf5\n",
      "3658/3658 [==============================] - 230s 63ms/step - loss: 0.5842 - mae: 0.5235 - val_loss: 0.4382 - val_mae: 0.4583 - lr: 0.0010\n",
      "Epoch 5/50\n",
      "3658/3658 [==============================] - ETA: 0s - loss: 0.5380 - mae: 0.4999\n",
      "Epoch 5: val_loss improved from 0.43821 to 0.27645, saving model to models/vnet/250224_90p_samp_augment.hdf5\n",
      "3658/3658 [==============================] - 230s 63ms/step - loss: 0.5380 - mae: 0.4999 - val_loss: 0.2764 - val_mae: 0.3664 - lr: 0.0010\n",
      "Epoch 6/50\n",
      "3658/3658 [==============================] - ETA: 0s - loss: 293.0044 - mae: 1.5706\n",
      "Epoch 6: val_loss did not improve from 0.27645\n",
      "3658/3658 [==============================] - 229s 63ms/step - loss: 293.0044 - mae: 1.5706 - val_loss: 91.2244 - val_mae: 8.1177 - lr: 0.0010\n",
      "Epoch 7/50\n",
      "3658/3658 [==============================] - ETA: 0s - loss: 1.3102 - mae: 0.8539\n",
      "Epoch 7: val_loss did not improve from 0.27645\n",
      "3658/3658 [==============================] - 231s 63ms/step - loss: 1.3102 - mae: 0.8539 - val_loss: 102.7147 - val_mae: 9.9200 - lr: 0.0010\n",
      "Epoch 8/50\n",
      "3658/3658 [==============================] - ETA: 0s - loss: 0.8352 - mae: 0.6489\n",
      "Epoch 8: val_loss did not improve from 0.27645\n",
      "3658/3658 [==============================] - 231s 63ms/step - loss: 0.8352 - mae: 0.6489 - val_loss: 1852.1989 - val_mae: 30.8847 - lr: 0.0010\n",
      "Epoch 9/50\n",
      "3658/3658 [==============================] - ETA: 0s - loss: 0.6968 - mae: 0.5808\n",
      "Epoch 9: val_loss did not improve from 0.27645\n",
      "3658/3658 [==============================] - 230s 63ms/step - loss: 0.6968 - mae: 0.5808 - val_loss: 62.1316 - val_mae: 4.2479 - lr: 0.0010\n",
      "Epoch 10/50\n",
      "3658/3658 [==============================] - ETA: 0s - loss: 35402.3594 - mae: 7.5734\n",
      "Epoch 10: val_loss did not improve from 0.27645\n",
      "3658/3658 [==============================] - 232s 63ms/step - loss: 35402.3594 - mae: 7.5734 - val_loss: 39.4087 - val_mae: 4.3928 - lr: 0.0010\n"
     ]
    }
   ],
   "source": [
    "history = vnet_model.fit(x=X_train_sample, \n",
    "                         y=y_train_sample, \n",
    "                         validation_data=(X_val_sample, y_val_sample), \n",
    "                         batch_size=32, \n",
    "                         epochs=50, \n",
    "                         callbacks=[early_stopping, reduce_lr, checkpoint])"
   ]
  },
  {
   "cell_type": "markdown",
   "id": "5f86a754",
   "metadata": {},
   "source": [
    "-------------------\n",
    "\n",
    "The model improved its performance for the first few epochs. Loss decreases, meaning it's learning. \n",
    "\n",
    "At epoch 6, loss spikes, possibly due to an issue with the data or learning rate. \n",
    "\n",
    "### Model Saved"
   ]
  },
  {
   "cell_type": "code",
   "execution_count": 28,
   "id": "45541f99",
   "metadata": {},
   "outputs": [
    {
     "name": "stdout",
     "output_type": "stream",
     "text": [
      "Model: \"vnet_regression\"\n",
      "__________________________________________________________________________________________________\n",
      " Layer (type)                   Output Shape         Param #     Connected to                     \n",
      "==================================================================================================\n",
      " input_1 (InputLayer)           [(None, 32, 32, 32,  0           []                               \n",
      "                                 1)]                                                              \n",
      "                                                                                                  \n",
      " conv3d_1 (Conv3D)              (None, 32, 32, 32,   448         ['input_1[0][0]']                \n",
      "                                16)                                                               \n",
      "                                                                                                  \n",
      " activation (Activation)        (None, 32, 32, 32,   0           ['conv3d_1[0][0]']               \n",
      "                                16)                                                               \n",
      "                                                                                                  \n",
      " dropout (Dropout)              (None, 32, 32, 32,   0           ['activation[0][0]']             \n",
      "                                16)                                                               \n",
      "                                                                                                  \n",
      " conv3d_2 (Conv3D)              (None, 32, 32, 32,   6928        ['dropout[0][0]']                \n",
      "                                16)                                                               \n",
      "                                                                                                  \n",
      " activation_1 (Activation)      (None, 32, 32, 32,   0           ['conv3d_2[0][0]']               \n",
      "                                16)                                                               \n",
      "                                                                                                  \n",
      " conv3d (Conv3D)                (None, 32, 32, 32,   32          ['input_1[0][0]']                \n",
      "                                16)                                                               \n",
      "                                                                                                  \n",
      " add (Add)                      (None, 32, 32, 32,   0           ['activation_1[0][0]',           \n",
      "                                16)                               'conv3d[0][0]']                 \n",
      "                                                                                                  \n",
      " max_pooling3d (MaxPooling3D)   (None, 16, 16, 16,   0           ['add[0][0]']                    \n",
      "                                16)                                                               \n",
      "                                                                                                  \n",
      " dropout_1 (Dropout)            (None, 16, 16, 16,   0           ['max_pooling3d[0][0]']          \n",
      "                                16)                                                               \n",
      "                                                                                                  \n",
      " conv3d_4 (Conv3D)              (None, 16, 16, 16,   13856       ['dropout_1[0][0]']              \n",
      "                                32)                                                               \n",
      "                                                                                                  \n",
      " activation_2 (Activation)      (None, 16, 16, 16,   0           ['conv3d_4[0][0]']               \n",
      "                                32)                                                               \n",
      "                                                                                                  \n",
      " dropout_2 (Dropout)            (None, 16, 16, 16,   0           ['activation_2[0][0]']           \n",
      "                                32)                                                               \n",
      "                                                                                                  \n",
      " conv3d_5 (Conv3D)              (None, 16, 16, 16,   27680       ['dropout_2[0][0]']              \n",
      "                                32)                                                               \n",
      "                                                                                                  \n",
      " activation_3 (Activation)      (None, 16, 16, 16,   0           ['conv3d_5[0][0]']               \n",
      "                                32)                                                               \n",
      "                                                                                                  \n",
      " conv3d_3 (Conv3D)              (None, 16, 16, 16,   544         ['dropout_1[0][0]']              \n",
      "                                32)                                                               \n",
      "                                                                                                  \n",
      " add_1 (Add)                    (None, 16, 16, 16,   0           ['activation_3[0][0]',           \n",
      "                                32)                               'conv3d_3[0][0]']               \n",
      "                                                                                                  \n",
      " max_pooling3d_1 (MaxPooling3D)  (None, 8, 8, 8, 32)  0          ['add_1[0][0]']                  \n",
      "                                                                                                  \n",
      " dropout_3 (Dropout)            (None, 8, 8, 8, 32)  0           ['max_pooling3d_1[0][0]']        \n",
      "                                                                                                  \n",
      " conv3d_7 (Conv3D)              (None, 8, 8, 8, 64)  55360       ['dropout_3[0][0]']              \n",
      "                                                                                                  \n",
      " activation_4 (Activation)      (None, 8, 8, 8, 64)  0           ['conv3d_7[0][0]']               \n",
      "                                                                                                  \n",
      " dropout_4 (Dropout)            (None, 8, 8, 8, 64)  0           ['activation_4[0][0]']           \n",
      "                                                                                                  \n",
      " conv3d_8 (Conv3D)              (None, 8, 8, 8, 64)  110656      ['dropout_4[0][0]']              \n",
      "                                                                                                  \n",
      " activation_5 (Activation)      (None, 8, 8, 8, 64)  0           ['conv3d_8[0][0]']               \n",
      "                                                                                                  \n",
      " conv3d_6 (Conv3D)              (None, 8, 8, 8, 64)  2112        ['dropout_3[0][0]']              \n",
      "                                                                                                  \n",
      " add_2 (Add)                    (None, 8, 8, 8, 64)  0           ['activation_5[0][0]',           \n",
      "                                                                  'conv3d_6[0][0]']               \n",
      "                                                                                                  \n",
      " max_pooling3d_2 (MaxPooling3D)  (None, 4, 4, 4, 64)  0          ['add_2[0][0]']                  \n",
      "                                                                                                  \n",
      " dropout_5 (Dropout)            (None, 4, 4, 4, 64)  0           ['max_pooling3d_2[0][0]']        \n",
      "                                                                                                  \n",
      " conv3d_10 (Conv3D)             (None, 4, 4, 4, 128  221312      ['dropout_5[0][0]']              \n",
      "                                )                                                                 \n",
      "                                                                                                  \n",
      " activation_6 (Activation)      (None, 4, 4, 4, 128  0           ['conv3d_10[0][0]']              \n",
      "                                )                                                                 \n",
      "                                                                                                  \n",
      " dropout_6 (Dropout)            (None, 4, 4, 4, 128  0           ['activation_6[0][0]']           \n",
      "                                )                                                                 \n",
      "                                                                                                  \n",
      " conv3d_11 (Conv3D)             (None, 4, 4, 4, 128  442496      ['dropout_6[0][0]']              \n",
      "                                )                                                                 \n",
      "                                                                                                  \n",
      " activation_7 (Activation)      (None, 4, 4, 4, 128  0           ['conv3d_11[0][0]']              \n",
      "                                )                                                                 \n",
      "                                                                                                  \n",
      " conv3d_9 (Conv3D)              (None, 4, 4, 4, 128  8320        ['dropout_5[0][0]']              \n",
      "                                )                                                                 \n",
      "                                                                                                  \n",
      " add_3 (Add)                    (None, 4, 4, 4, 128  0           ['activation_7[0][0]',           \n",
      "                                )                                 'conv3d_9[0][0]']               \n",
      "                                                                                                  \n",
      " max_pooling3d_3 (MaxPooling3D)  (None, 2, 2, 2, 128  0          ['add_3[0][0]']                  \n",
      "                                )                                                                 \n",
      "                                                                                                  \n",
      " dropout_7 (Dropout)            (None, 2, 2, 2, 128  0           ['max_pooling3d_3[0][0]']        \n",
      "                                )                                                                 \n",
      "                                                                                                  \n",
      " conv3d_13 (Conv3D)             (None, 2, 2, 2, 256  884992      ['dropout_7[0][0]']              \n",
      "                                )                                                                 \n",
      "                                                                                                  \n",
      " activation_8 (Activation)      (None, 2, 2, 2, 256  0           ['conv3d_13[0][0]']              \n",
      "                                )                                                                 \n",
      "                                                                                                  \n",
      " dropout_8 (Dropout)            (None, 2, 2, 2, 256  0           ['activation_8[0][0]']           \n",
      "                                )                                                                 \n",
      "                                                                                                  \n",
      " conv3d_14 (Conv3D)             (None, 2, 2, 2, 256  1769728     ['dropout_8[0][0]']              \n",
      "                                )                                                                 \n",
      "                                                                                                  \n",
      " activation_9 (Activation)      (None, 2, 2, 2, 256  0           ['conv3d_14[0][0]']              \n",
      "                                )                                                                 \n",
      "                                                                                                  \n",
      " conv3d_12 (Conv3D)             (None, 2, 2, 2, 256  33024       ['dropout_7[0][0]']              \n",
      "                                )                                                                 \n",
      "                                                                                                  \n",
      " add_4 (Add)                    (None, 2, 2, 2, 256  0           ['activation_9[0][0]',           \n",
      "                                )                                 'conv3d_12[0][0]']              \n",
      "                                                                                                  \n",
      " up_sampling3d (UpSampling3D)   (None, 4, 4, 4, 256  0           ['add_4[0][0]']                  \n",
      "                                )                                                                 \n",
      "                                                                                                  \n",
      " conv3d_15 (Conv3D)             (None, 4, 4, 4, 128  32896       ['up_sampling3d[0][0]']          \n",
      "                                )                                                                 \n",
      "                                                                                                  \n",
      " add_5 (Add)                    (None, 4, 4, 4, 128  0           ['conv3d_15[0][0]',              \n",
      "                                )                                 'add_3[0][0]']                  \n",
      "                                                                                                  \n",
      " conv3d_17 (Conv3D)             (None, 4, 4, 4, 128  442496      ['add_5[0][0]']                  \n",
      "                                )                                                                 \n",
      "                                                                                                  \n",
      " activation_10 (Activation)     (None, 4, 4, 4, 128  0           ['conv3d_17[0][0]']              \n",
      "                                )                                                                 \n",
      "                                                                                                  \n",
      " dropout_9 (Dropout)            (None, 4, 4, 4, 128  0           ['activation_10[0][0]']          \n",
      "                                )                                                                 \n",
      "                                                                                                  \n",
      " conv3d_18 (Conv3D)             (None, 4, 4, 4, 128  442496      ['dropout_9[0][0]']              \n",
      "                                )                                                                 \n",
      "                                                                                                  \n",
      " activation_11 (Activation)     (None, 4, 4, 4, 128  0           ['conv3d_18[0][0]']              \n",
      "                                )                                                                 \n",
      "                                                                                                  \n",
      " conv3d_16 (Conv3D)             (None, 4, 4, 4, 128  16512       ['add_5[0][0]']                  \n",
      "                                )                                                                 \n",
      "                                                                                                  \n",
      " add_6 (Add)                    (None, 4, 4, 4, 128  0           ['activation_11[0][0]',          \n",
      "                                )                                 'conv3d_16[0][0]']              \n",
      "                                                                                                  \n",
      " up_sampling3d_1 (UpSampling3D)  (None, 8, 8, 8, 128  0          ['add_6[0][0]']                  \n",
      "                                )                                                                 \n",
      "                                                                                                  \n",
      " conv3d_19 (Conv3D)             (None, 8, 8, 8, 64)  8256        ['up_sampling3d_1[0][0]']        \n",
      "                                                                                                  \n",
      " add_7 (Add)                    (None, 8, 8, 8, 64)  0           ['conv3d_19[0][0]',              \n",
      "                                                                  'add_2[0][0]']                  \n",
      "                                                                                                  \n",
      " conv3d_21 (Conv3D)             (None, 8, 8, 8, 64)  110656      ['add_7[0][0]']                  \n",
      "                                                                                                  \n",
      " activation_12 (Activation)     (None, 8, 8, 8, 64)  0           ['conv3d_21[0][0]']              \n",
      "                                                                                                  \n",
      " dropout_10 (Dropout)           (None, 8, 8, 8, 64)  0           ['activation_12[0][0]']          \n",
      "                                                                                                  \n",
      " conv3d_22 (Conv3D)             (None, 8, 8, 8, 64)  110656      ['dropout_10[0][0]']             \n",
      "                                                                                                  \n",
      " activation_13 (Activation)     (None, 8, 8, 8, 64)  0           ['conv3d_22[0][0]']              \n",
      "                                                                                                  \n",
      " conv3d_20 (Conv3D)             (None, 8, 8, 8, 64)  4160        ['add_7[0][0]']                  \n",
      "                                                                                                  \n",
      " add_8 (Add)                    (None, 8, 8, 8, 64)  0           ['activation_13[0][0]',          \n",
      "                                                                  'conv3d_20[0][0]']              \n",
      "                                                                                                  \n",
      " up_sampling3d_2 (UpSampling3D)  (None, 16, 16, 16,   0          ['add_8[0][0]']                  \n",
      "                                64)                                                               \n",
      "                                                                                                  \n",
      " conv3d_23 (Conv3D)             (None, 16, 16, 16,   2080        ['up_sampling3d_2[0][0]']        \n",
      "                                32)                                                               \n",
      "                                                                                                  \n",
      " add_9 (Add)                    (None, 16, 16, 16,   0           ['conv3d_23[0][0]',              \n",
      "                                32)                               'add_1[0][0]']                  \n",
      "                                                                                                  \n",
      " conv3d_25 (Conv3D)             (None, 16, 16, 16,   27680       ['add_9[0][0]']                  \n",
      "                                32)                                                               \n",
      "                                                                                                  \n",
      " activation_14 (Activation)     (None, 16, 16, 16,   0           ['conv3d_25[0][0]']              \n",
      "                                32)                                                               \n",
      "                                                                                                  \n",
      " dropout_11 (Dropout)           (None, 16, 16, 16,   0           ['activation_14[0][0]']          \n",
      "                                32)                                                               \n",
      "                                                                                                  \n",
      " conv3d_26 (Conv3D)             (None, 16, 16, 16,   27680       ['dropout_11[0][0]']             \n",
      "                                32)                                                               \n",
      "                                                                                                  \n",
      " activation_15 (Activation)     (None, 16, 16, 16,   0           ['conv3d_26[0][0]']              \n",
      "                                32)                                                               \n",
      "                                                                                                  \n",
      " conv3d_24 (Conv3D)             (None, 16, 16, 16,   1056        ['add_9[0][0]']                  \n",
      "                                32)                                                               \n",
      "                                                                                                  \n",
      " add_10 (Add)                   (None, 16, 16, 16,   0           ['activation_15[0][0]',          \n",
      "                                32)                               'conv3d_24[0][0]']              \n",
      "                                                                                                  \n",
      " up_sampling3d_3 (UpSampling3D)  (None, 32, 32, 32,   0          ['add_10[0][0]']                 \n",
      "                                32)                                                               \n",
      "                                                                                                  \n",
      " conv3d_27 (Conv3D)             (None, 32, 32, 32,   528         ['up_sampling3d_3[0][0]']        \n",
      "                                16)                                                               \n",
      "                                                                                                  \n",
      " add_11 (Add)                   (None, 32, 32, 32,   0           ['conv3d_27[0][0]',              \n",
      "                                16)                               'add[0][0]']                    \n",
      "                                                                                                  \n",
      " conv3d_29 (Conv3D)             (None, 32, 32, 32,   6928        ['add_11[0][0]']                 \n",
      "                                16)                                                               \n",
      "                                                                                                  \n",
      " activation_16 (Activation)     (None, 32, 32, 32,   0           ['conv3d_29[0][0]']              \n",
      "                                16)                                                               \n",
      "                                                                                                  \n",
      " dropout_12 (Dropout)           (None, 32, 32, 32,   0           ['activation_16[0][0]']          \n",
      "                                16)                                                               \n",
      "                                                                                                  \n",
      " conv3d_30 (Conv3D)             (None, 32, 32, 32,   6928        ['dropout_12[0][0]']             \n",
      "                                16)                                                               \n",
      "                                                                                                  \n",
      " activation_17 (Activation)     (None, 32, 32, 32,   0           ['conv3d_30[0][0]']              \n",
      "                                16)                                                               \n",
      "                                                                                                  \n",
      " conv3d_28 (Conv3D)             (None, 32, 32, 32,   272         ['add_11[0][0]']                 \n",
      "                                16)                                                               \n",
      "                                                                                                  \n",
      " add_12 (Add)                   (None, 32, 32, 32,   0           ['activation_17[0][0]',          \n",
      "                                16)                               'conv3d_28[0][0]']              \n",
      "                                                                                                  \n",
      " conv3d_31 (Conv3D)             (None, 32, 32, 32,   17          ['add_12[0][0]']                 \n",
      "                                1)                                                                \n",
      "                                                                                                  \n",
      "==================================================================================================\n",
      "Total params: 4,818,785\n",
      "Trainable params: 4,818,785\n",
      "Non-trainable params: 0\n",
      "__________________________________________________________________________________________________\n"
     ]
    }
   ],
   "source": [
    "vnet_model.summary()"
   ]
  },
  {
   "cell_type": "markdown",
   "id": "67c7585a",
   "metadata": {},
   "source": [
    "\n",
    "> Find the model in `/models/vnet/` folder with the name `250224_90p_samp_augment.hdf5`\n",
    "\n",
    "# Script Complete"
   ]
  }
 ],
 "metadata": {
  "kernelspec": {
   "display_name": "Python 3 (ipykernel)",
   "language": "python",
   "name": "python3"
  },
  "language_info": {
   "codemirror_mode": {
    "name": "ipython",
    "version": 3
   },
   "file_extension": ".py",
   "mimetype": "text/x-python",
   "name": "python",
   "nbconvert_exporter": "python",
   "pygments_lexer": "ipython3",
   "version": "3.7.12"
  }
 },
 "nbformat": 4,
 "nbformat_minor": 5
}
