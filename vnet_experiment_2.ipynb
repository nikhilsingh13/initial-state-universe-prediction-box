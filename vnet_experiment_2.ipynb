{
 "cells": [
  {
   "cell_type": "code",
   "execution_count": 8,
   "id": "94af916b",
   "metadata": {},
   "outputs": [],
   "source": [
    "import os\n",
    "\n",
    "import matplotlib.pyplot as plt\n",
    "import numpy as np\n",
    "import tensorflow as tf\n",
    "\n",
    "from sklearn.model_selection import train_test_split\n",
    "\n",
    "# from tensorflow.keras.models import Model, load_model\n",
    "# from tensorflow.keras.optimizers import Adam\n",
    "# from tensorflow.keras.callbacks import EarlyStopping, ReduceLROnPlateau, ModelCheckpoint\n",
    "# from tensorflow.keras.layers import (Input, \n",
    "#                                      Conv3D, \n",
    "#                                      MaxPooling3D, \n",
    "#                                      Dropout, \n",
    "#                                      PReLU, \n",
    "#                                      BatchNormalization, \n",
    "#                                      Conv3DTranspose, UpSampling3D, \n",
    "#                                      Concatenate)\n",
    "\n",
    "from sklearn.metrics import mean_squared_error, mean_absolute_error\n",
    "\n",
    "%matplotlib inline"
   ]
  },
  {
   "cell_type": "code",
   "execution_count": 1,
   "id": "2b7d9f61",
   "metadata": {},
   "outputs": [],
   "source": [
    "from tensorflow.keras import Model\n",
    "from tensorflow.keras.layers import Input, Conv3D, MaxPooling3D, UpSampling3D, Add, Activation\n",
    "from tensorflow.keras.optimizers import Adam\n",
    "from tensorflow.keras import backend as K"
   ]
  },
  {
   "cell_type": "code",
   "execution_count": 2,
   "id": "1b03d7db",
   "metadata": {},
   "outputs": [],
   "source": [
    "def conv_block(input_tensor, num_filters):\n",
    "    x = Conv3D(num_filters, (3,3,3), padding='same')(input_tensor)\n",
    "    x = Activation('relu')(x)\n",
    "    x = Conv3D(num_filters, (3,3,3), padding='same')(x)\n",
    "    x = Activation('relu')(x)\n",
    "    return Add()([x, input_tensor]) # residual connection as per the VNET paper64"
   ]
  },
  {
   "cell_type": "code",
   "execution_count": 3,
   "id": "95f104f0",
   "metadata": {},
   "outputs": [],
   "source": [
    "def encoder_block(input_tensor, num_filters):\n",
    "    x = conv_block(input_tensor, num_filters)\n",
    "    p = MaxPooling3D((2,2,2))(x)\n",
    "    return x, p"
   ]
  },
  {
   "cell_type": "code",
   "execution_count": 21,
   "id": "ae684f3c",
   "metadata": {},
   "outputs": [],
   "source": [
    "def decoder_block(input_tensor, concat_tensor, num_filters):\n",
    "    x = UpSampling3D((2,2,2))(input_tensor)\n",
    "    x = Conv3D(num_filters, (1,1,1))(x) # 1X1X1 convolution operation to match the filters\n",
    "    x = Add()([x, concat_tensor]) # skip connection implementation. VNET is a variant of UNET.\n",
    "    x = conv_block(x, num_filters)\n",
    "    return x"
   ]
  },
  {
   "cell_type": "code",
   "execution_count": 6,
   "id": "9007a7a9",
   "metadata": {},
   "outputs": [],
   "source": [
    "def vnet_regression(input_shape):\n",
    "    inputs = Input(input_shape)\n",
    "    \n",
    "    e0, p0 = encoder_block(inputs, 16)\n",
    "    e1, p1 = encoder_block(p0, 32)\n",
    "    e2, p2 = encoder_block(p1, 64)\n",
    "    e3, p3 = encoder_block(p2, 128)\n",
    "    \n",
    "    b0 = conv_block(p3, 256)\n",
    "    \n",
    "    d3 = decoder_block(b0, e3, 128)\n",
    "    d2 = decoder_block(b3, e2, 64)\n",
    "    d1 = decoder_block(b2, e1, 32)\n",
    "    d0 = decoder_block(b1, e0, 16)\n",
    "    \n",
    "    outputs = Conv3D(1, (1,1,1), activation='linear')(d0)\n",
    "    \n",
    "    model = Model(inputs=[inputs], outputs=[outputs])\n",
    "    \n",
    "    return model"
   ]
  },
  {
   "cell_type": "code",
   "execution_count": 2,
   "id": "6c60b8a8",
   "metadata": {},
   "outputs": [],
   "source": [
    "# # Motivation:\n",
    "# # https://github.com/MiguelMonteiro/VNet-Tensorflow/blob/master/VNet.py\n",
    "\n",
    "# # https://paperswithcode.com/method/prelu\n",
    "    \n",
    "# # PReLU layer\n",
    "# # f(x) = alpha * x for x < 0\n",
    "# # f(x) = x for x >= 0\n",
    "\n",
    "# def conv3d_block(input_tensor, n_filters, kernel_size_ip = 3, batchnorm = True):\n",
    "#     # first layer\n",
    "#     x = Conv3D(filters = n_filters, \n",
    "#                kernel_size = (kernel_size_ip, \n",
    "#                               kernel_size_ip, \n",
    "#                               kernel_size_ip), \n",
    "#                kernel_initializer = 'he_normal', \n",
    "#                padding = 'same')(input_tensor)\n",
    "#     if batchnorm:\n",
    "#         x = BatchNormalization()(x)\n",
    "        \n",
    "#     x = PReLU()(x)\n",
    "    \n",
    "#     # second layer\n",
    "#     x = Conv3D(filters = n_filters, \n",
    "#                kernel_size = (kernel_size_ip, \n",
    "#                               kernel_size_ip, \n",
    "#                               kernel_size_ip), \n",
    "#                kernel_initializer = 'he_normal',\n",
    "#                padding = 'same')(x)\n",
    "#     if batchnorm:\n",
    "#         x = BatchNormalization()(x)\n",
    "        \n",
    "#     x = PReLU()(x)\n",
    "#     return x\n",
    "\n",
    "# def vnet(input_img, n_filters = 64, dropout = 0.5, batchnorm = True):\n",
    "#     # Contracting Path\n",
    "#     c1 = conv3d_block(input_img, n_filters * 1, kernel_size_ip = 3, batchnorm = batchnorm)\n",
    "#     p1 = MaxPooling3D((2, 2, 2))(c1)\n",
    "#     p1 = Dropout(dropout)(p1)\n",
    "  \n",
    "#     c2 = conv3d_block(p1, n_filters * 2, kernel_size_ip = 3, batchnorm = batchnorm)\n",
    "#     p2 = MaxPooling3D((2, 2, 2))(c2)\n",
    "#     p2 = Dropout(dropout)(p2)\n",
    "  \n",
    "#     c3 = conv3d_block(p2, n_filters * 4, kernel_size_ip = 3, batchnorm = batchnorm)\n",
    "\n",
    "#     # Expansive Path\n",
    "#     u4 = Conv3DTranspose(n_filters * 2, (3, 3, 3), strides = (2, 2, 2), padding = 'same')(c3)\n",
    "#     u4 = concatenate([u4, c2])\n",
    "#     u4 = Dropout(dropout)(u4)\n",
    "#     c4 = conv3d_block(u4, n_filters * 2, kernel_size_ip = 3, batchnorm = batchnorm)\n",
    "\n",
    "#     u5 = Conv3DTranspose(n_filters * 1, (3, 3, 3), strides = (2, 2, 2), padding = 'same')(c4)\n",
    "#     u5 = concatenate([u5, c1])\n",
    "#     u5 = Dropout(dropout)(u5)\n",
    "#     c5 = conv3d_block(u5, n_filters * 1, kernel_size_ip = 3, batchnorm = batchnorm)\n",
    "  \n",
    "#     outputs = Conv3D(1, (1, 1, 1), activation='linear')(c5)\n",
    "#     model = tf.keras.Model(inputs=[input_img], outputs=[outputs])\n",
    "#     return model"
   ]
  },
  {
   "cell_type": "code",
   "execution_count": 3,
   "id": "35f596d5",
   "metadata": {},
   "outputs": [],
   "source": [
    "# from tensorflow.keras.layers import PReLU\n",
    "\n",
    "# def create_original_vnet(input_shape):\n",
    "#     # input layer\n",
    "#     inputs = Input(input_shape)\n",
    "\n",
    "#     # Layer 1\n",
    "#     conv1 = Conv3D(16, (5, 5, 5), padding='same')(inputs)\n",
    "#     conv1 = PReLU()(conv1)\n",
    "#     concat1 = Concatenate()([inputs, conv1])\n",
    "\n",
    "#     # Layer 2\n",
    "#     conv2 = Conv3D(32, (3, 3, 3), padding='same', strides=2)(concat1)\n",
    "#     conv2 = PReLU()(conv2)\n",
    "#     conv2 = Conv3D(32, (3, 3, 3), padding='same')(conv2)\n",
    "#     conv2 = PReLU()(conv2)\n",
    "#     concat2 = Concatenate()([Conv3D(32, (1, 1, 1), strides=2)(concat1), conv2])\n",
    "\n",
    "#     # Layer 3\n",
    "#     conv3 = Conv3D(64, (3, 3, 3), padding='same', strides=2)(concat2)\n",
    "#     conv3 = PReLU()(conv3)\n",
    "#     conv3 = Conv3D(64, (3, 3, 3), padding='same')(conv3)\n",
    "#     conv3 = PReLU()(conv3)\n",
    "#     concat3 = Concatenate()([Conv3D(64, (1, 1, 1), strides=2)(concat2), conv3])\n",
    "\n",
    "#     # Layer 4\n",
    "#     conv4 = Conv3D(128, (3, 3, 3), padding='same', strides=2)(concat3)\n",
    "#     conv4 = PReLU()(conv4)\n",
    "#     conv4 = Conv3D(128, (3, 3, 3), padding='same')(conv4)\n",
    "#     conv4 = PReLU()(conv4)\n",
    "#     concat4 = Concatenate()([Conv3D(128, (1, 1, 1), strides=2)(concat3), conv4])\n",
    "\n",
    "#     # Layer 5 (Bottom layer)\n",
    "#     conv5 = Conv3D(256, (3, 3, 3), padding='same')(concat4)\n",
    "#     conv5 = PReLU()(conv5)\n",
    "#     conv5 = Conv3D(256, (3, 3, 3), padding='same')(conv5)\n",
    "#     conv5 = PReLU()(conv5)\n",
    "\n",
    "#     # Layer upsample 4\n",
    "#     up4 = UpSampling3D(size=(2, 2, 2))(conv5)\n",
    "#     concat_up4 = Concatenate()([up4, conv4])\n",
    "\n",
    "#     # Layer 6\n",
    "#     conv6 = Conv3D(128, (3, 3, 3), padding='same')(concat_up4)\n",
    "#     conv6 = PReLU()(conv6)\n",
    "#     conv6 = Conv3D(128, (3, 3, 3), padding='same')(conv6)\n",
    "#     conv6 = PReLU()(conv6)\n",
    "\n",
    "#     # Layer upsample 3\n",
    "#     up3 = UpSampling3D(size=(2, 2, 2))(conv6)\n",
    "#     concat_up3 = Concatenate()([up3, conv3])\n",
    "\n",
    "#     # Layer 7\n",
    "#     conv7 = Conv3D(64, (3, 3, 3), padding='same')(concat_up3)\n",
    "#     conv7 = PReLU()(conv7)\n",
    "#     conv7 = Conv3D(64, (3, 3, 3), padding='same')(conv7)\n",
    "#     conv7 = PReLU()(conv7)\n",
    "\n",
    "#     # Layer upsample 2\n",
    "#     up2 = UpSampling3D(size=(2, 2, 2))(conv7)\n",
    "#     concat_up2 = Concatenate()([up2, conv2])\n",
    "\n",
    "#     # Layer 8\n",
    "#     conv8 = Conv3D(32, (3, 3, 3), padding='same')(concat_up2)\n",
    "#     conv8 = PReLU()(conv8)\n",
    "#     conv8 = Conv3D(32, (3, 3, 3), padding='same')(conv8)\n",
    "#     conv8 = PReLU()(conv8)\n",
    "\n",
    "#     # Layer upsample 1\n",
    "#     up1 = UpSampling3D(size=(2, 2, 2))(conv8)\n",
    "#     concat_up1 = Concatenate()([up1, conv1])\n",
    "\n",
    "#     # Layer 9\n",
    "#     conv9 = Conv3D(16, (3, 3, 3), padding='same')(concat_up1)\n",
    "#     conv9 = PReLU()(conv9)\n",
    "#     conv9 = Conv3D(16, (3, 3, 3), padding='same')(conv9)\n",
    "#     conv9 = PReLU()(conv9)\n",
    "\n",
    "#     # Final softmax layer\n",
    "#     outputs = Conv3D(1, (1, 1, 1), activation='linear')(conv9)\n",
    "\n",
    "#     return Model(inputs=[inputs], outputs=[outputs])"
   ]
  },
  {
   "cell_type": "code",
   "execution_count": 4,
   "id": "3520636d",
   "metadata": {},
   "outputs": [],
   "source": [
    "# import tensorflow as tf\n",
    "# from tensorflow.keras import Input, Model, layers\n",
    "\n",
    "# def conv3d_block(input_tensor, n_filters, kernel_size_ip=3, strides=1, batchnorm=True):\n",
    "#     # replace MaxPooling3D with StridedConvolution for downsampling\n",
    "#     x = layers.Conv3D(filters=n_filters, \n",
    "#                       kernel_size=(kernel_size_ip, kernel_size_ip, kernel_size_ip), \n",
    "#                       strides=strides,\n",
    "#                       kernel_initializer='he_normal', \n",
    "#                       padding='same')(input_tensor)\n",
    "#     if batchnorm:\n",
    "#         x = layers.BatchNormalization()(x)\n",
    "        \n",
    "#     x = layers.PReLU()(x)\n",
    "    \n",
    "#     # second layer\n",
    "#     x = layers.Conv3D(filters=n_filters, \n",
    "#                       kernel_size=(kernel_size_ip, kernel_size_ip, kernel_size_ip), \n",
    "#                       kernel_initializer='he_normal', \n",
    "#                       padding='same')(x)\n",
    "#     if batchnorm:\n",
    "#         x = layers.BatchNormalization()(x)\n",
    "        \n",
    "#     x = layers.PReLU()(x)\n",
    "#     return x\n",
    "\n",
    "# def vnet(input_img, n_filters=16, dropout=0.5, batchnorm=True):\n",
    "#     # Contracting Path\n",
    "#     c1 = conv3d_block(input_img, n_filters * 1, kernel_size=3, strides=1, batchnorm=batchnorm)\n",
    "#     p1 = layers.Conv3D(filters=n_filters*2, kernel_size=(3,3,3), strides=2, padding='same')(c1)  # stride 2 replaces maxpool\n",
    "#     p1 = layers.Dropout(dropout)(p1)\n",
    "  \n",
    "#     c2 = conv3d_block(p1, n_filters * 2, kernel_size=3, strides=1, batchnorm=batchnorm)\n",
    "#     p2 = layers.Conv3D(filters=n_filters*4, kernel_size=(3,3,3), strides=2, padding='same')(c2)  # stride 2 replaces maxpool\n",
    "#     p2 = layers.Dropout(dropout)(p2)\n",
    "  \n",
    "#     c3 = conv3d_block(p2, n_filters * 4, kernel_size=3, strides=1, batchnorm=batchnorm)\n",
    "    \n",
    "#     # Expansive Path\n",
    "#     u4 = layers.Conv3DTranspose(n_filters * 2, (3, 3, 3), strides=(2, 2, 2), padding='same')(c3)\n",
    "#     u4 = layers.concatenate([u4, c2])\n",
    "#     u4 = layers.Dropout(dropout)(u4)\n",
    "#     c4 = conv3d_block(u4, n_filters * 2, kernel_size=3, batchnorm=batchnorm)\n",
    "\n",
    "#     u5 = layers.Conv3DTranspose(n_filters * 1, (3, 3, 3), strides=(2, 2, 2), padding='same')(c4)\n",
    "#     u5 = layers.concatenate([u5, c1])\n",
    "#     u5 = layers.Dropout(dropout)(u5)\n",
    "#     c5 = conv3d_block(u5, n_filters * 1, kernel_size=3, batchnorm=batchnorm)\n",
    "\n",
    "#     outputs = layers.Conv3D(1, (1, 1, 1), activation='sigmoid')(c5)\n",
    "#     model = tf.keras.Model(inputs=[input_img], outputs=[outputs])\n",
    "#     return model"
   ]
  },
  {
   "cell_type": "code",
   "execution_count": 9,
   "id": "f59cad3c",
   "metadata": {},
   "outputs": [],
   "source": [
    "# the simulations can be generated by data_generation_nb notebook.\n",
    "simulated_data = np.load('./generated_data/simulated_data_010124_5K.npy')"
   ]
  },
  {
   "cell_type": "code",
   "execution_count": 10,
   "id": "20e41f84",
   "metadata": {},
   "outputs": [],
   "source": [
    "os.environ['PYTHONHASHSEED']=str(159)\n",
    "\n",
    "np.random.seed(159)\n",
    "tf.random.set_seed(159)"
   ]
  },
  {
   "cell_type": "code",
   "execution_count": 11,
   "id": "709e3cea",
   "metadata": {},
   "outputs": [],
   "source": [
    "# Split the data\n",
    "initial_state = simulated_data[:, 0]\n",
    "final_state = simulated_data[:, 1]\n",
    "\n",
    "# Compute the mean and std of the initial and final states\n",
    "initial_state_mean, initial_state_std = np.mean(initial_state), np.std(initial_state)\n",
    "final_state_mean, final_state_std = np.mean(final_state), np.std(final_state)\n",
    "\n",
    "# Normalize the initial and final states\n",
    "initial_state = (initial_state - initial_state_mean) / initial_state_std\n",
    "final_state = (final_state - final_state_mean) / final_state_std\n",
    "\n",
    "# Select one simulation's initial and final states\n",
    "initial_conditions = initial_state[0]\n",
    "final_density = final_state[0]"
   ]
  },
  {
   "cell_type": "code",
   "execution_count": 12,
   "id": "e83c2057",
   "metadata": {},
   "outputs": [
    {
     "data": {
      "image/png": "[encoded data removed]",
      "text/plain": [
       "<Figure size 1000x500 with 2 Axes>"
      ]
     },
     "metadata": {},
     "output_type": "display_data"
    }
   ],
   "source": [
    "fig, axes = plt.subplots(1, 2, figsize=(10, 5))\n",
    "# initial state and final state\n",
    "axes[0].imshow(initial_conditions[0], cmap='viridis')\n",
    "axes[0].set_title(\"Initial State\")\n",
    "\n",
    "axes[1].imshow(final_density[0], cmap='viridis')  \n",
    "axes[1].set_title(\"Final State\")\n",
    "\n",
    "plt.show()"
   ]
  },
  {
   "cell_type": "code",
   "execution_count": 13,
   "id": "b1bb6475",
   "metadata": {},
   "outputs": [],
   "source": [
    "# train and test\n",
    "X_train, X_test, y_train, y_test  = train_test_split(initial_state, final_state, test_size=0.15, random_state=123)\n",
    "\n",
    "# further splitting it in training and testing\n",
    "X_train, X_val, y_train, y_val = train_test_split(X_train, y_train, test_size=0.1, random_state=123)"
   ]
  },
  {
   "cell_type": "code",
   "execution_count": 14,
   "id": "bc327cb6",
   "metadata": {},
   "outputs": [],
   "source": [
    "# Recasting dimensions to 4D tensor (suitable for 3D convolutions) with the following dimensions: (batch_size, height, width, depth, num_channels)\n",
    "X_train = np.reshape(X_train, (*X_train.shape, 1))\n",
    "X_val = np.reshape(X_val, (*X_val.shape, 1))\n",
    "X_test = np.reshape(X_test, (*X_test.shape, 1))\n",
    "\n",
    "y_train = np.reshape(y_train, (*y_train.shape, 1))\n",
    "y_val = np.reshape(y_val, (*y_val.shape, 1))\n",
    "y_test = np.reshape(y_test, (*y_test.shape, 1))"
   ]
  },
  {
   "cell_type": "code",
   "execution_count": 15,
   "id": "9d5947ad",
   "metadata": {},
   "outputs": [
    {
     "data": {
      "text/plain": [
       "((3825, 32, 32, 32, 1),\n",
       " (425, 32, 32, 32, 1),\n",
       " (3825, 32, 32, 32, 1),\n",
       " (425, 32, 32, 32, 1),\n",
       " (750, 32, 32, 32, 1),\n",
       " (750, 32, 32, 32, 1))"
      ]
     },
     "execution_count": 15,
     "metadata": {},
     "output_type": "execute_result"
    }
   ],
   "source": [
    "X_train.shape, X_val.shape, y_train.shape, y_val.shape, X_test.shape, y_test.shape"
   ]
  },
  {
   "cell_type": "code",
   "execution_count": 16,
   "id": "47907954",
   "metadata": {},
   "outputs": [],
   "source": [
    "# saving in case the instance failed\n",
    "# np.save('X_test.npy', X_test)\n",
    "# np.save('y_test.npy', y_test)"
   ]
  },
  {
   "cell_type": "markdown",
   "id": "46dc5986",
   "metadata": {},
   "source": [
    "## Instantiate VNet model"
   ]
  },
  {
   "cell_type": "code",
   "execution_count": 17,
   "id": "eab8a818",
   "metadata": {},
   "outputs": [],
   "source": [
    "# Parameters\n",
    "Ngrid = 32  # grid size"
   ]
  },
  {
   "cell_type": "code",
   "execution_count": 18,
   "id": "2226281f",
   "metadata": {},
   "outputs": [],
   "source": [
    "# input_shape = (32, 32, 32, 1) \n",
    "# input_img = tf.keras.Input(shape=input_shape)"
   ]
  },
  {
   "cell_type": "code",
   "execution_count": 19,
   "id": "26a2e33c",
   "metadata": {},
   "outputs": [],
   "source": [
    "# vnet_model = vnet(input_img, n_filters=128, dropout=0.5, batchnorm=True)"
   ]
  },
  {
   "cell_type": "code",
   "execution_count": 22,
   "id": "9e2c63c3",
   "metadata": {},
   "outputs": [
    {
     "ename": "NameError",
     "evalue": "name 'b3' is not defined",
     "output_type": "error",
     "traceback": [
      "\u001b[0;31m---------------------------------------------------------------------------\u001b[0m",
      "\u001b[0;31mNameError\u001b[0m                                 Traceback (most recent call last)",
      "\u001b[0;32m/tmp/ipykernel_27524/4167574150.py\u001b[0m in \u001b[0;36m<module>\u001b[0;34m\u001b[0m\n\u001b[0;32m----> 1\u001b[0;31m \u001b[0mvnet_model\u001b[0m \u001b[0;34m=\u001b[0m \u001b[0mvnet_regression\u001b[0m\u001b[0;34m(\u001b[0m\u001b[0;34m(\u001b[0m\u001b[0mNgrid\u001b[0m\u001b[0;34m,\u001b[0m \u001b[0mNgrid\u001b[0m\u001b[0;34m,\u001b[0m \u001b[0mNgrid\u001b[0m\u001b[0;34m,\u001b[0m \u001b[0;36m1\u001b[0m\u001b[0;34m)\u001b[0m\u001b[0;34m)\u001b[0m\u001b[0;34m\u001b[0m\u001b[0;34m\u001b[0m\u001b[0m\n\u001b[0m",
      "\u001b[0;32m/tmp/ipykernel_27524/3157383684.py\u001b[0m in \u001b[0;36mvnet_regression\u001b[0;34m(input_shape)\u001b[0m\n\u001b[1;32m     10\u001b[0m \u001b[0;34m\u001b[0m\u001b[0m\n\u001b[1;32m     11\u001b[0m     \u001b[0md3\u001b[0m \u001b[0;34m=\u001b[0m \u001b[0mdecoder_block\u001b[0m\u001b[0;34m(\u001b[0m\u001b[0mb0\u001b[0m\u001b[0;34m,\u001b[0m \u001b[0me3\u001b[0m\u001b[0;34m,\u001b[0m \u001b[0;36m128\u001b[0m\u001b[0;34m)\u001b[0m\u001b[0;34m\u001b[0m\u001b[0;34m\u001b[0m\u001b[0m\n\u001b[0;32m---> 12\u001b[0;31m     \u001b[0md2\u001b[0m \u001b[0;34m=\u001b[0m \u001b[0mdecoder_block\u001b[0m\u001b[0;34m(\u001b[0m\u001b[0mb3\u001b[0m\u001b[0;34m,\u001b[0m \u001b[0me2\u001b[0m\u001b[0;34m,\u001b[0m \u001b[0;36m64\u001b[0m\u001b[0;34m)\u001b[0m\u001b[0;34m\u001b[0m\u001b[0;34m\u001b[0m\u001b[0m\n\u001b[0m\u001b[1;32m     13\u001b[0m     \u001b[0md1\u001b[0m \u001b[0;34m=\u001b[0m \u001b[0mdecoder_block\u001b[0m\u001b[0;34m(\u001b[0m\u001b[0mb2\u001b[0m\u001b[0;34m,\u001b[0m \u001b[0me1\u001b[0m\u001b[0;34m,\u001b[0m \u001b[0;36m32\u001b[0m\u001b[0;34m)\u001b[0m\u001b[0;34m\u001b[0m\u001b[0;34m\u001b[0m\u001b[0m\n\u001b[1;32m     14\u001b[0m     \u001b[0md0\u001b[0m \u001b[0;34m=\u001b[0m \u001b[0mdecoder_block\u001b[0m\u001b[0;34m(\u001b[0m\u001b[0mb1\u001b[0m\u001b[0;34m,\u001b[0m \u001b[0me0\u001b[0m\u001b[0;34m,\u001b[0m \u001b[0;36m16\u001b[0m\u001b[0;34m)\u001b[0m\u001b[0;34m\u001b[0m\u001b[0;34m\u001b[0m\u001b[0m\n",
      "\u001b[0;31mNameError\u001b[0m: name 'b3' is not defined"
     ]
    }
   ],
   "source": [
    "vnet_model = vnet_regression((Ngrid, Ngrid, Ngrid, 1))"
   ]
  },
  {
   "cell_type": "code",
   "execution_count": null,
   "id": "f09e303e",
   "metadata": {},
   "outputs": [],
   "source": [
    "# Compile the model\n",
    "vnet_model.compile(optimizer=Adam(), \n",
    "                   loss='mse',\n",
    "                   metrics=['mae'],\n",
    "                   run_eagerly=True)"
   ]
  },
  {
   "cell_type": "code",
   "execution_count": null,
   "id": "3edeb9c9",
   "metadata": {},
   "outputs": [],
   "source": [
    "early_stopping = EarlyStopping(monitor='val_loss', patience=5, restore_best_weights=True)\n",
    "reduce_lr = ReduceLROnPlateau(monitor='val_loss', factor=0.2, patience=5, min_lr=0.001)\n",
    "checkpoint = ModelCheckpoint('vnet.h5', monitor='loss', verbose=1, save_best_only=True)"
   ]
  },
  {
   "cell_type": "code",
   "execution_count": null,
   "id": "3562661b",
   "metadata": {},
   "outputs": [],
   "source": [
    "print(\"Num GPUs Available: \", len(tf.config.list_physical_devices('GPU')))\n",
    "print(tf.reduce_sum(tf.random.normal([1000, 1000])))\n",
    "print(tf.config.list_physical_devices('GPU'))"
   ]
  },
  {
   "cell_type": "code",
   "execution_count": null,
   "id": "89ec690d",
   "metadata": {},
   "outputs": [],
   "source": [
    "history = vnet_model.fit(x=y_train, \n",
    "                         y=X_train, \n",
    "                         validation_data=(y_val, X_val), \n",
    "                         batch_size=32, \n",
    "                         epochs=50, \n",
    "                         callbacks=[early_stopping, reduce_lr, checkpoint])"
   ]
  },
  {
   "cell_type": "code",
   "execution_count": null,
   "id": "470d3f9f",
   "metadata": {},
   "outputs": [],
   "source": [
    "# Load the arrays from .npy files in case the instance needs to be started from here.\n",
    "# y_test = np.load('y_test.npy')\n",
    "# X_test = np.load('X_test.npy')"
   ]
  },
  {
   "cell_type": "code",
   "execution_count": null,
   "id": "14ea0b7e",
   "metadata": {},
   "outputs": [],
   "source": [
    "# Load the model\n",
    "# as the kernel was failing, the notebook was started from here again.\n",
    "# vnet = load_model('old_vnet_model_5K.h5')\n",
    "vnet = load_model('vnet_model.h5')"
   ]
  },
  {
   "cell_type": "code",
   "execution_count": null,
   "id": "855b32e8",
   "metadata": {},
   "outputs": [],
   "source": [
    "vnet.summary()"
   ]
  },
  {
   "cell_type": "code",
   "execution_count": null,
   "id": "e8a2142c",
   "metadata": {},
   "outputs": [],
   "source": [
    "eval_results = vnet.evaluate(x=X_test, y=y_test)\n",
    "print(f\"Evaluation Results:{eval_results}\")"
   ]
  },
  {
   "cell_type": "code",
   "execution_count": null,
   "id": "638a5fcf",
   "metadata": {},
   "outputs": [],
   "source": [
    "predictions = vnet.predict(X_test)\n",
    "predictions.shape"
   ]
  },
  {
   "cell_type": "code",
   "execution_count": null,
   "id": "7dbdc8a1",
   "metadata": {},
   "outputs": [],
   "source": [
    "np.min(predictions), np.min(X_test), np.max(predictions), np.max(X_test)"
   ]
  },
  {
   "cell_type": "code",
   "execution_count": null,
   "id": "924dbc36",
   "metadata": {},
   "outputs": [],
   "source": [
    "vmin = min(np.min(predictions), np.min(X_test))\n",
    "vmax = max(np.max(predictions), np.max(X_test))\n",
    "\n",
    "vmin, vmax"
   ]
  },
  {
   "cell_type": "code",
   "execution_count": null,
   "id": "6ce41d13",
   "metadata": {},
   "outputs": [],
   "source": [
    "for test_index in range(5):  # Plot first 5 test cases\n",
    "    fig, axs = plt.subplots(1, 3, figsize=(15, 5))\n",
    "\n",
    "    # Plot predicted initial state\n",
    "    im = axs[0].imshow(predictions[test_index].reshape(Ngrid, Ngrid, Ngrid)[Ngrid//2], vmin=vmin, vmax=vmax)\n",
    "    axs[0].set_title('Predicted Initial State')\n",
    "    fig.colorbar(im, ax=axs[0])\n",
    "\n",
    "    # Plot true initial state\n",
    "    im = axs[1].imshow(y_test[test_index].reshape(Ngrid, Ngrid, Ngrid)[Ngrid//2], vmin=vmin, vmax=vmax)\n",
    "    axs[1].set_title('True Initial State')\n",
    "    fig.colorbar(im, ax=axs[1])\n",
    "\n",
    "    # Plot given final state \n",
    "    im = axs[2].imshow(X_test[test_index].reshape(Ngrid, Ngrid, Ngrid)[Ngrid//2], vmin=vmin, vmax=vmax)\n",
    "    axs[2].set_title('Given Final State')\n",
    "    fig.colorbar(im, ax=axs[2])\n",
    "\n",
    "    plt.show()"
   ]
  },
  {
   "cell_type": "code",
   "execution_count": null,
   "id": "ecf0d34e",
   "metadata": {},
   "outputs": [],
   "source": [
    "# calculating the error metrics\n",
    "mse = mean_squared_error(y_test.flatten(), predictions.flatten())\n",
    "mae = mean_absolute_error(y_test.flatten(), predictions.flatten())\n",
    "\n",
    "print(f\"Mean Squared Error (MSE): {mse}\")\n",
    "print(f\"Mean Absolute Error (MAE): {mae}\")"
   ]
  },
  {
   "cell_type": "code",
   "execution_count": null,
   "id": "edb22998",
   "metadata": {},
   "outputs": [],
   "source": [
    "plt.figure(figsize=(10,10))\n",
    "plt.scatter(y_test.flatten(), predictions.flatten(), alpha=0.3)\n",
    "plt.plot([y_test.min(), y_test.max()], [y_test.min(), y_test.max()], 'k--', lw=4)\n",
    "plt.xlabel('True Values')\n",
    "plt.ylabel('Predictions')\n",
    "plt.title('Scatter plot of True vs Predicted values')\n",
    "plt.show()"
   ]
  },
  {
   "cell_type": "markdown",
   "id": "e96cc2ff",
   "metadata": {},
   "source": [
    "------\n",
    "# Script Complete"
   ]
  }
 ],
 "metadata": {
  "kernelspec": {
   "display_name": "Python 3 (ipykernel)",
   "language": "python",
   "name": "python3"
  },
  "language_info": {
   "codemirror_mode": {
    "name": "ipython",
    "version": 3
   },
   "file_extension": ".py",
   "mimetype": "text/x-python",
   "name": "python",
   "nbconvert_exporter": "python",
   "pygments_lexer": "ipython3",
   "version": "3.7.12"
  }
 },
 "nbformat": 4,
 "nbformat_minor": 5
}
